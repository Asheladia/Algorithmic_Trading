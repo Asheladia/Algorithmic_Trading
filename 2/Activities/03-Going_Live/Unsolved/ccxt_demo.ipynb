{
 "cells": [
  {
   "cell_type": "markdown",
   "metadata": {},
   "source": [
    "# Going Live with CCXT"
   ]
  },
  {
   "cell_type": "markdown",
   "metadata": {},
   "source": [
    "### Import Libraries and Dependencies"
   ]
  },
  {
   "cell_type": "code",
   "execution_count": null,
   "metadata": {},
   "outputs": [],
   "source": [
    "# Import libraries and dependencies\n",
    "import ccxt\n",
    "from dotenv import load_dotenv\n",
    "import os\n",
    "import pandas as pd"
   ]
  },
  {
   "cell_type": "markdown",
   "metadata": {},
   "source": [
    "### Import Environment Variables"
   ]
  },
  {
   "cell_type": "code",
   "execution_count": null,
   "metadata": {},
   "outputs": [],
   "source": [
    "# Import environment variables\n",
    "load_dotenv()"
   ]
  },
  {
   "cell_type": "code",
   "execution_count": null,
   "metadata": {},
   "outputs": [],
   "source": [
    "kraken_public_key = os.getenv('KRAKEN_PUBLIC_KEY')\n",
    "kraken_secret_key = os.getenv('KRAKEN_SECRET_KEY')"
   ]
  },
  {
   "cell_type": "markdown",
   "metadata": {},
   "source": [
    "### Set Public and Private Keys for Kraken Exchange via the CCXT library"
   ]
  },
  {
   "cell_type": "code",
   "execution_count": null,
   "metadata": {},
   "outputs": [],
   "source": [
    "# Set the public and private keys for the API\n",
    "exchange = ccxt.kraken({\n",
    "    'apiKey': kraken_public_key,\n",
    "    'secret': kraken_secret_key,\n",
    "})"
   ]
  },
  {
   "cell_type": "code",
   "execution_count": null,
   "metadata": {},
   "outputs": [],
   "source": [
    "# If Kraken API is not repsonding or requests are maxed out then set the alternative API key for the Bitfinex API.\n",
    "\n",
    "# DO NOT RUN THIS CELL IF YOU DO NOT HAVE A BITFINEX API KEY\n",
    "\n",
    "bitfinex_public_key = os.getenv('BITFINEX_PUBLIC_KEY')\n",
    "bitfinex_secret_key = os.getenv('BITFINEX_SECRET_KEY')\n",
    "\n",
    "exchange = ccxt.bitfinex({\n",
    "    'apiKey': bitfinex_public_key,\n",
    "    'secret': bitfinex_secret_key\n",
    "})"
   ]
  }
 ],
 "metadata": {
  "kernelspec": {
   "display_name": "Python 3",
   "language": "python",
   "name": "python3"
  },
  "language_info": {
   "codemirror_mode": {
    "name": "ipython",
    "version": 3
   },
   "file_extension": ".py",
   "mimetype": "text/x-python",
   "name": "python",
   "nbconvert_exporter": "python",
   "pygments_lexer": "ipython3",
   "version": "3.7.4"
  }
 },
 "nbformat": 4,
 "nbformat_minor": 4
}